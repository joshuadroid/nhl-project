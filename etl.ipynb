{
 "cells": [
  {
   "cell_type": "code",
   "execution_count": 3,
   "metadata": {},
   "outputs": [],
   "source": [
    "import pandas as pd\n",
    "import os\n",
    "import psycopg2"
   ]
  },
  {
   "cell_type": "code",
   "execution_count": 4,
   "metadata": {},
   "outputs": [],
   "source": [
    "pd.set_option(\"display.max_rows\", None)"
   ]
  },
  {
   "cell_type": "code",
   "execution_count": 19,
   "metadata": {},
   "outputs": [
    {
     "data": {
      "text/plain": [
       "<pandas.io.parsers.TextFileReader at 0x1f5161dedf0>"
      ]
     },
     "execution_count": 19,
     "metadata": {},
     "output_type": "execute_result"
    }
   ],
   "source": [
    "chunksize = 10000\n",
    "chunks = pd.read_csv('nhldata/game_plays.csv', chunksize=chunksize)\n",
    "chunks"
   ]
  },
  {
   "cell_type": "code",
   "execution_count": 5,
   "metadata": {},
   "outputs": [],
   "source": [
    "from config import host_name, password, user_name\n",
    "param_dic = {\n",
    "    'database':\"nhl_shots\",\n",
    "    'user':user_name,\n",
    "    'password':password,\n",
    "    'host':host_name,\n",
    "    'port':'5432'\n",
    "}"
   ]
  },
  {
   "cell_type": "code",
   "execution_count": 6,
   "metadata": {},
   "outputs": [
    {
     "name": "stdout",
     "output_type": "stream",
     "text": [
      "Connecting to the PostgreSQL database...\n",
      "Connection successful\n"
     ]
    }
   ],
   "source": [
    "def connect(params_dic):\n",
    "    \"\"\" Connect to the PostgreSQL database server \"\"\"\n",
    "    conn = None\n",
    "    try:\n",
    "        # connect to the PostgreSQL server\n",
    "        print('Connecting to the PostgreSQL database...')\n",
    "        conn = psycopg2.connect(**params_dic)\n",
    "    except (Exception, psycopg2.DatabaseError) as error:\n",
    "        print(error)\n",
    "        sys.exit(1) \n",
    "    print(\"Connection successful\")\n",
    "    return conn\n",
    "conn = connect(param_dic)"
   ]
  },
  {
   "cell_type": "code",
   "execution_count": 13,
   "metadata": {},
   "outputs": [
    {
     "name": "stdout",
     "output_type": "stream",
     "text": [
      "copy_from_file() done\n"
     ]
    }
   ],
   "source": [
    "def copy_from_file(conn, file, table):\n",
    "    \"\"\"\n",
    "    Here we are going save the dataframe on disk as \n",
    "    a csv file, load the csv file  \n",
    "    and use copy_from() to copy it to the table\n",
    "    \"\"\"\n",
    "    # Save the dataframe to disk\n",
    "    # tmp_df = \"./tmp_dataframe.csv\"\n",
    "    # df.to_csv(tmp_df, index_label='id', header=False)\n",
    "    with open(file, 'r') as f:\n",
    "        cursor = conn.cursor()\n",
    "        try:\n",
    "            cursor.copy_from(f, table, sep=\",\")\n",
    "            conn.commit()\n",
    "        except (Exception, psycopg2.DatabaseError) as error:\n",
    "            print(\"Error: %s\" % error)\n",
    "            conn.rollback()\n",
    "            cursor.close()\n",
    "            return 1\n",
    "        print(\"copy_from_file() done\")\n",
    "        cursor.close()\n",
    "\n",
    "copy_from_file(conn, 'shotsdata/shots_2010 - no_head.csv', 'shot_data')\n",
    "\n",
    "# For Loop for all years\n",
    "# n=0\n",
    "# for x in range(10):\n",
    "#     copy_from_file(conn, f'shotsdata/shots_201{n} - no_head.csv', 'shot_data')\n",
    "#     n+=1"
   ]
  },
  {
   "cell_type": "code",
   "execution_count": null,
   "metadata": {},
   "outputs": [],
   "source": []
  },
  {
   "cell_type": "code",
   "execution_count": null,
   "metadata": {},
   "outputs": [],
   "source": []
  },
  {
   "cell_type": "code",
   "execution_count": null,
   "metadata": {},
   "outputs": [],
   "source": []
  },
  {
   "cell_type": "code",
   "execution_count": null,
   "metadata": {},
   "outputs": [],
   "source": [
    "# Everything below here is throwaway code at the moment"
   ]
  },
  {
   "cell_type": "code",
   "execution_count": 23,
   "metadata": {},
   "outputs": [],
   "source": [
    "columns = pd.read_sql(\"SELECT * FROM game_plays\", conn).columns"
   ]
  },
  {
   "cell_type": "code",
   "execution_count": null,
   "metadata": {},
   "outputs": [],
   "source": [
    "filenames = []\n",
    "chunk_num = 0\n",
    "for x in chunks:\n",
    "    file = \"temp_dataframe\" + str(chunk_num) + \".csv\"\n",
    "    x[list(columns)].to_csv(file, index=False, header=False)\n",
    "    filenames.append(file)\n",
    "    chunk_num+=1\n",
    "\n",
    "\n",
    "    "
   ]
  },
  {
   "cell_type": "code",
   "execution_count": 33,
   "metadata": {},
   "outputs": [
    {
     "data": {
      "text/html": [
       "<div>\n",
       "<style scoped>\n",
       "    .dataframe tbody tr th:only-of-type {\n",
       "        vertical-align: middle;\n",
       "    }\n",
       "\n",
       "    .dataframe tbody tr th {\n",
       "        vertical-align: top;\n",
       "    }\n",
       "\n",
       "    .dataframe thead th {\n",
       "        text-align: right;\n",
       "    }\n",
       "</style>\n",
       "<table border=\"1\" class=\"dataframe\">\n",
       "  <thead>\n",
       "    <tr style=\"text-align: right;\">\n",
       "      <th></th>\n",
       "      <th>play_id</th>\n",
       "      <th>game_id</th>\n",
       "      <th>team_id_for</th>\n",
       "      <th>team_id_against</th>\n",
       "      <th>event</th>\n",
       "      <th>secondaryType</th>\n",
       "      <th>x</th>\n",
       "      <th>y</th>\n",
       "      <th>period</th>\n",
       "      <th>periodType</th>\n",
       "      <th>periodTime</th>\n",
       "      <th>periodTimeRemaining</th>\n",
       "      <th>dateTime</th>\n",
       "      <th>goals_away</th>\n",
       "      <th>goals_home</th>\n",
       "      <th>description</th>\n",
       "      <th>st_x</th>\n",
       "      <th>st_y</th>\n",
       "    </tr>\n",
       "  </thead>\n",
       "  <tbody>\n",
       "    <tr>\n",
       "      <th>0</th>\n",
       "      <td>2016020045_1</td>\n",
       "      <td>2016020045</td>\n",
       "      <td>NaN</td>\n",
       "      <td>NaN</td>\n",
       "      <td>Game Scheduled</td>\n",
       "      <td>NaN</td>\n",
       "      <td>NaN</td>\n",
       "      <td>NaN</td>\n",
       "      <td>1</td>\n",
       "      <td>REGULAR</td>\n",
       "      <td>0</td>\n",
       "      <td>1200</td>\n",
       "      <td>2016-10-18 23:40:58</td>\n",
       "      <td>0</td>\n",
       "      <td>0</td>\n",
       "      <td>Game Scheduled</td>\n",
       "      <td>NaN</td>\n",
       "      <td>NaN</td>\n",
       "    </tr>\n",
       "    <tr>\n",
       "      <th>1</th>\n",
       "      <td>2016020045_2</td>\n",
       "      <td>2016020045</td>\n",
       "      <td>NaN</td>\n",
       "      <td>NaN</td>\n",
       "      <td>Period Ready</td>\n",
       "      <td>NaN</td>\n",
       "      <td>NaN</td>\n",
       "      <td>NaN</td>\n",
       "      <td>1</td>\n",
       "      <td>REGULAR</td>\n",
       "      <td>0</td>\n",
       "      <td>1200</td>\n",
       "      <td>2016-10-19 01:35:28</td>\n",
       "      <td>0</td>\n",
       "      <td>0</td>\n",
       "      <td>Period Ready</td>\n",
       "      <td>NaN</td>\n",
       "      <td>NaN</td>\n",
       "    </tr>\n",
       "    <tr>\n",
       "      <th>2</th>\n",
       "      <td>2016020045_3</td>\n",
       "      <td>2016020045</td>\n",
       "      <td>NaN</td>\n",
       "      <td>NaN</td>\n",
       "      <td>Period Start</td>\n",
       "      <td>NaN</td>\n",
       "      <td>NaN</td>\n",
       "      <td>NaN</td>\n",
       "      <td>1</td>\n",
       "      <td>REGULAR</td>\n",
       "      <td>0</td>\n",
       "      <td>1200</td>\n",
       "      <td>2016-10-19 01:40:50</td>\n",
       "      <td>0</td>\n",
       "      <td>0</td>\n",
       "      <td>Period Start</td>\n",
       "      <td>NaN</td>\n",
       "      <td>NaN</td>\n",
       "    </tr>\n",
       "    <tr>\n",
       "      <th>3</th>\n",
       "      <td>2016020045_4</td>\n",
       "      <td>2016020045</td>\n",
       "      <td>16.0</td>\n",
       "      <td>4.0</td>\n",
       "      <td>Faceoff</td>\n",
       "      <td>NaN</td>\n",
       "      <td>0.0</td>\n",
       "      <td>0.0</td>\n",
       "      <td>1</td>\n",
       "      <td>REGULAR</td>\n",
       "      <td>0</td>\n",
       "      <td>1200</td>\n",
       "      <td>2016-10-19 01:40:50</td>\n",
       "      <td>0</td>\n",
       "      <td>0</td>\n",
       "      <td>Jonathan Toews faceoff won against Claude Giroux</td>\n",
       "      <td>0.0</td>\n",
       "      <td>0.0</td>\n",
       "    </tr>\n",
       "    <tr>\n",
       "      <th>4</th>\n",
       "      <td>2016020045_5</td>\n",
       "      <td>2016020045</td>\n",
       "      <td>16.0</td>\n",
       "      <td>4.0</td>\n",
       "      <td>Shot</td>\n",
       "      <td>Wrist Shot</td>\n",
       "      <td>-71.0</td>\n",
       "      <td>9.0</td>\n",
       "      <td>1</td>\n",
       "      <td>REGULAR</td>\n",
       "      <td>54</td>\n",
       "      <td>1146</td>\n",
       "      <td>2016-10-19 01:41:44</td>\n",
       "      <td>0</td>\n",
       "      <td>0</td>\n",
       "      <td>Artem Anisimov Wrist Shot saved by Michal Neuv...</td>\n",
       "      <td>71.0</td>\n",
       "      <td>-9.0</td>\n",
       "    </tr>\n",
       "  </tbody>\n",
       "</table>\n",
       "</div>"
      ],
      "text/plain": [
       "        play_id     game_id  team_id_for  team_id_against           event  \\\n",
       "0  2016020045_1  2016020045          NaN              NaN  Game Scheduled   \n",
       "1  2016020045_2  2016020045          NaN              NaN    Period Ready   \n",
       "2  2016020045_3  2016020045          NaN              NaN    Period Start   \n",
       "3  2016020045_4  2016020045         16.0              4.0         Faceoff   \n",
       "4  2016020045_5  2016020045         16.0              4.0            Shot   \n",
       "\n",
       "  secondaryType     x    y  period periodType  periodTime  \\\n",
       "0           NaN   NaN  NaN       1    REGULAR           0   \n",
       "1           NaN   NaN  NaN       1    REGULAR           0   \n",
       "2           NaN   NaN  NaN       1    REGULAR           0   \n",
       "3           NaN   0.0  0.0       1    REGULAR           0   \n",
       "4    Wrist Shot -71.0  9.0       1    REGULAR          54   \n",
       "\n",
       "   periodTimeRemaining             dateTime  goals_away  goals_home  \\\n",
       "0                 1200  2016-10-18 23:40:58           0           0   \n",
       "1                 1200  2016-10-19 01:35:28           0           0   \n",
       "2                 1200  2016-10-19 01:40:50           0           0   \n",
       "3                 1200  2016-10-19 01:40:50           0           0   \n",
       "4                 1146  2016-10-19 01:41:44           0           0   \n",
       "\n",
       "                                         description  st_x  st_y  \n",
       "0                                     Game Scheduled   NaN   NaN  \n",
       "1                                       Period Ready   NaN   NaN  \n",
       "2                                       Period Start   NaN   NaN  \n",
       "3   Jonathan Toews faceoff won against Claude Giroux   0.0   0.0  \n",
       "4  Artem Anisimov Wrist Shot saved by Michal Neuv...  71.0  -9.0  "
      ]
     },
     "execution_count": 33,
     "metadata": {},
     "output_type": "execute_result"
    }
   ],
   "source": [
    "x.head()\n",
    "# set(x.columns) ^ set(columns)"
   ]
  },
  {
   "cell_type": "code",
   "execution_count": 11,
   "metadata": {},
   "outputs": [],
   "source": [
    "for file in filenames:\n",
    "    copy_from_file(conn, file, \"game_plays\")"
   ]
  },
  {
   "cell_type": "code",
   "execution_count": 23,
   "metadata": {},
   "outputs": [
    {
     "name": "stdout",
     "output_type": "stream",
     "text": [
      "sup\n"
     ]
    }
   ],
   "source": [
    "with open ('temp_dataframe0.csv') as f:\n",
    "    print(\"sup\")"
   ]
  },
  {
   "cell_type": "code",
   "execution_count": null,
   "metadata": {},
   "outputs": [],
   "source": [
    "pd.read_csv(\"MoneyPuckDataDictionaryForPlayers.csv\")"
   ]
  },
  {
   "cell_type": "code",
   "execution_count": 8,
   "metadata": {},
   "outputs": [],
   "source": [
    "shots_df = pd.read_csv(\"shotsdata/shots_2017.csv\")"
   ]
  },
  {
   "cell_type": "code",
   "execution_count": 36,
   "metadata": {},
   "outputs": [],
   "source": [
    "shots_df.describe"
   ]
  },
  {
   "cell_type": "code",
   "execution_count": 6,
   "metadata": {},
   "outputs": [],
   "source": [
    "import psycopg2\n",
    "from config import host_name, password, user_name\n",
    "connection = psycopg2.connect(\n",
    "    host = host_name,\n",
    "    port = 5432,\n",
    "    user = user_name,\n",
    "    password = password,\n",
    "    database= 'nhl_shots'\n",
    "    )\n",
    "cursor=connection.cursor()"
   ]
  },
  {
   "cell_type": "code",
   "execution_count": 11,
   "metadata": {},
   "outputs": [
    {
     "name": "stdout",
     "output_type": "stream",
     "text": [
      "Connected!\n"
     ]
    }
   ],
   "source": [
    "from config import host_name, password, user_name\n",
    "conn = connect_to_db(host_name, 'nhl_shots', 5432, user_name, password)\n",
    "curr = conn.cursor()"
   ]
  },
  {
   "cell_type": "code",
   "execution_count": 12,
   "metadata": {},
   "outputs": [
    {
     "ename": "PermissionError",
     "evalue": "[WinError 32] The process cannot access the file because it is being used by another process: './tmp_dataframe.csv'",
     "output_type": "error",
     "traceback": [
      "\u001b[1;31m---------------------------------------------------------------------------\u001b[0m",
      "\u001b[1;31mUndefinedTable\u001b[0m                            Traceback (most recent call last)",
      "\u001b[1;32m<ipython-input-12-5d2ee75add7e>\u001b[0m in \u001b[0;36mcopy_from_file\u001b[1;34m(conn, df, table)\u001b[0m\n\u001b[0;32m     13\u001b[0m     \u001b[1;32mtry\u001b[0m\u001b[1;33m:\u001b[0m\u001b[1;33m\u001b[0m\u001b[1;33m\u001b[0m\u001b[0m\n\u001b[1;32m---> 14\u001b[1;33m         \u001b[0mcursor\u001b[0m\u001b[1;33m.\u001b[0m\u001b[0mcopy_from\u001b[0m\u001b[1;33m(\u001b[0m\u001b[0mf\u001b[0m\u001b[1;33m,\u001b[0m \u001b[0mtable\u001b[0m\u001b[1;33m,\u001b[0m \u001b[0msep\u001b[0m\u001b[1;33m=\u001b[0m\u001b[1;34m\",\"\u001b[0m\u001b[1;33m)\u001b[0m\u001b[1;33m\u001b[0m\u001b[1;33m\u001b[0m\u001b[0m\n\u001b[0m\u001b[0;32m     15\u001b[0m         \u001b[0mconn\u001b[0m\u001b[1;33m.\u001b[0m\u001b[0mcommit\u001b[0m\u001b[1;33m(\u001b[0m\u001b[1;33m)\u001b[0m\u001b[1;33m\u001b[0m\u001b[1;33m\u001b[0m\u001b[0m\n",
      "\u001b[1;31mUndefinedTable\u001b[0m: relation \"shot_data\" does not exist\n",
      "\nDuring handling of the above exception, another exception occurred:\n",
      "\u001b[1;31mPermissionError\u001b[0m                           Traceback (most recent call last)",
      "\u001b[1;32m<ipython-input-12-5d2ee75add7e>\u001b[0m in \u001b[0;36m<module>\u001b[1;34m\u001b[0m\n\u001b[0;32m     24\u001b[0m     \u001b[0mos\u001b[0m\u001b[1;33m.\u001b[0m\u001b[0mremove\u001b[0m\u001b[1;33m(\u001b[0m\u001b[0mtmp_df\u001b[0m\u001b[1;33m)\u001b[0m\u001b[1;33m\u001b[0m\u001b[1;33m\u001b[0m\u001b[0m\n\u001b[0;32m     25\u001b[0m \u001b[1;33m\u001b[0m\u001b[0m\n\u001b[1;32m---> 26\u001b[1;33m \u001b[0mcopy_from_file\u001b[0m\u001b[1;33m(\u001b[0m\u001b[0mconn\u001b[0m\u001b[1;33m,\u001b[0m \u001b[0mshots_df\u001b[0m\u001b[1;33m,\u001b[0m \u001b[1;34m'shot_data'\u001b[0m\u001b[1;33m)\u001b[0m\u001b[1;33m\u001b[0m\u001b[1;33m\u001b[0m\u001b[0m\n\u001b[0m",
      "\u001b[1;32m<ipython-input-12-5d2ee75add7e>\u001b[0m in \u001b[0;36mcopy_from_file\u001b[1;34m(conn, df, table)\u001b[0m\n\u001b[0;32m     15\u001b[0m         \u001b[0mconn\u001b[0m\u001b[1;33m.\u001b[0m\u001b[0mcommit\u001b[0m\u001b[1;33m(\u001b[0m\u001b[1;33m)\u001b[0m\u001b[1;33m\u001b[0m\u001b[1;33m\u001b[0m\u001b[0m\n\u001b[0;32m     16\u001b[0m     \u001b[1;32mexcept\u001b[0m \u001b[1;33m(\u001b[0m\u001b[0mException\u001b[0m\u001b[1;33m,\u001b[0m \u001b[0mpsycopg2\u001b[0m\u001b[1;33m.\u001b[0m\u001b[0mDatabaseError\u001b[0m\u001b[1;33m)\u001b[0m \u001b[1;32mas\u001b[0m \u001b[0merror\u001b[0m\u001b[1;33m:\u001b[0m\u001b[1;33m\u001b[0m\u001b[1;33m\u001b[0m\u001b[0m\n\u001b[1;32m---> 17\u001b[1;33m         \u001b[0mos\u001b[0m\u001b[1;33m.\u001b[0m\u001b[0mremove\u001b[0m\u001b[1;33m(\u001b[0m\u001b[0mtmp_df\u001b[0m\u001b[1;33m)\u001b[0m\u001b[1;33m\u001b[0m\u001b[1;33m\u001b[0m\u001b[0m\n\u001b[0m\u001b[0;32m     18\u001b[0m         \u001b[0mprint\u001b[0m\u001b[1;33m(\u001b[0m\u001b[1;34m\"Error: %s\"\u001b[0m \u001b[1;33m%\u001b[0m \u001b[0merror\u001b[0m\u001b[1;33m)\u001b[0m\u001b[1;33m\u001b[0m\u001b[1;33m\u001b[0m\u001b[0m\n\u001b[0;32m     19\u001b[0m         \u001b[0mconn\u001b[0m\u001b[1;33m.\u001b[0m\u001b[0mrollback\u001b[0m\u001b[1;33m(\u001b[0m\u001b[1;33m)\u001b[0m\u001b[1;33m\u001b[0m\u001b[1;33m\u001b[0m\u001b[0m\n",
      "\u001b[1;31mPermissionError\u001b[0m: [WinError 32] The process cannot access the file because it is being used by another process: './tmp_dataframe.csv'"
     ]
    }
   ],
   "source": [
    "import psycopg2\n",
    "def copy_from_file(conn, df, table):\n",
    "    \"\"\"\n",
    "    Here we are going save the dataframe on disk as \n",
    "    a csv file, load the csv file  \n",
    "    and use copy_from() to copy it to the table\n",
    "    \"\"\"\n",
    "    # Save the dataframe to disk\n",
    "    tmp_df = \"./tmp_dataframe.csv\"\n",
    "    df.to_csv(tmp_df, index_label='id', header=False)\n",
    "    f = open(tmp_df, 'r')\n",
    "    cursor = conn.cursor()\n",
    "    try:\n",
    "        cursor.copy_from(f, table, sep=\",\")\n",
    "        conn.commit()\n",
    "    except (Exception, psycopg2.DatabaseError) as error:\n",
    "        os.remove(tmp_df)\n",
    "        print(\"Error: %s\" % error)\n",
    "        conn.rollback()\n",
    "        cursor.close()\n",
    "        return 1\n",
    "    print(\"copy_from_file() done\")\n",
    "    cursor.close()\n",
    "    os.remove(tmp_df)\n",
    "\n",
    "copy_from_file(conn, shots_df, 'shot_data')"
   ]
  },
  {
   "cell_type": "code",
   "execution_count": 13,
   "metadata": {},
   "outputs": [
    {
     "ename": "PermissionError",
     "evalue": "[WinError 32] The process cannot access the file because it is being used by another process: './tmp_dataframe.csv'",
     "output_type": "error",
     "traceback": [
      "\u001b[1;31m---------------------------------------------------------------------------\u001b[0m",
      "\u001b[1;31mInFailedSqlTransaction\u001b[0m                    Traceback (most recent call last)",
      "\u001b[1;32m<ipython-input-12-5d2ee75add7e>\u001b[0m in \u001b[0;36mcopy_from_file\u001b[1;34m(conn, df, table)\u001b[0m\n\u001b[0;32m     13\u001b[0m     \u001b[1;32mtry\u001b[0m\u001b[1;33m:\u001b[0m\u001b[1;33m\u001b[0m\u001b[1;33m\u001b[0m\u001b[0m\n\u001b[1;32m---> 14\u001b[1;33m         \u001b[0mcursor\u001b[0m\u001b[1;33m.\u001b[0m\u001b[0mcopy_from\u001b[0m\u001b[1;33m(\u001b[0m\u001b[0mf\u001b[0m\u001b[1;33m,\u001b[0m \u001b[0mtable\u001b[0m\u001b[1;33m,\u001b[0m \u001b[0msep\u001b[0m\u001b[1;33m=\u001b[0m\u001b[1;34m\",\"\u001b[0m\u001b[1;33m)\u001b[0m\u001b[1;33m\u001b[0m\u001b[1;33m\u001b[0m\u001b[0m\n\u001b[0m\u001b[0;32m     15\u001b[0m         \u001b[0mconn\u001b[0m\u001b[1;33m.\u001b[0m\u001b[0mcommit\u001b[0m\u001b[1;33m(\u001b[0m\u001b[1;33m)\u001b[0m\u001b[1;33m\u001b[0m\u001b[1;33m\u001b[0m\u001b[0m\n",
      "\u001b[1;31mInFailedSqlTransaction\u001b[0m: current transaction is aborted, commands ignored until end of transaction block\n",
      "\nDuring handling of the above exception, another exception occurred:\n",
      "\u001b[1;31mPermissionError\u001b[0m                           Traceback (most recent call last)",
      "\u001b[1;32m<ipython-input-13-4eaf33171d5f>\u001b[0m in \u001b[0;36m<module>\u001b[1;34m\u001b[0m\n\u001b[1;32m----> 1\u001b[1;33m \u001b[0mcopy_from_file\u001b[0m\u001b[1;33m(\u001b[0m\u001b[0mconn\u001b[0m\u001b[1;33m,\u001b[0m \u001b[0mshots_df\u001b[0m\u001b[1;33m,\u001b[0m \u001b[1;34m'shot_data'\u001b[0m\u001b[1;33m)\u001b[0m\u001b[1;33m\u001b[0m\u001b[1;33m\u001b[0m\u001b[0m\n\u001b[0m",
      "\u001b[1;32m<ipython-input-12-5d2ee75add7e>\u001b[0m in \u001b[0;36mcopy_from_file\u001b[1;34m(conn, df, table)\u001b[0m\n\u001b[0;32m     15\u001b[0m         \u001b[0mconn\u001b[0m\u001b[1;33m.\u001b[0m\u001b[0mcommit\u001b[0m\u001b[1;33m(\u001b[0m\u001b[1;33m)\u001b[0m\u001b[1;33m\u001b[0m\u001b[1;33m\u001b[0m\u001b[0m\n\u001b[0;32m     16\u001b[0m     \u001b[1;32mexcept\u001b[0m \u001b[1;33m(\u001b[0m\u001b[0mException\u001b[0m\u001b[1;33m,\u001b[0m \u001b[0mpsycopg2\u001b[0m\u001b[1;33m.\u001b[0m\u001b[0mDatabaseError\u001b[0m\u001b[1;33m)\u001b[0m \u001b[1;32mas\u001b[0m \u001b[0merror\u001b[0m\u001b[1;33m:\u001b[0m\u001b[1;33m\u001b[0m\u001b[1;33m\u001b[0m\u001b[0m\n\u001b[1;32m---> 17\u001b[1;33m         \u001b[0mos\u001b[0m\u001b[1;33m.\u001b[0m\u001b[0mremove\u001b[0m\u001b[1;33m(\u001b[0m\u001b[0mtmp_df\u001b[0m\u001b[1;33m)\u001b[0m\u001b[1;33m\u001b[0m\u001b[1;33m\u001b[0m\u001b[0m\n\u001b[0m\u001b[0;32m     18\u001b[0m         \u001b[0mprint\u001b[0m\u001b[1;33m(\u001b[0m\u001b[1;34m\"Error: %s\"\u001b[0m \u001b[1;33m%\u001b[0m \u001b[0merror\u001b[0m\u001b[1;33m)\u001b[0m\u001b[1;33m\u001b[0m\u001b[1;33m\u001b[0m\u001b[0m\n\u001b[0;32m     19\u001b[0m         \u001b[0mconn\u001b[0m\u001b[1;33m.\u001b[0m\u001b[0mrollback\u001b[0m\u001b[1;33m(\u001b[0m\u001b[1;33m)\u001b[0m\u001b[1;33m\u001b[0m\u001b[1;33m\u001b[0m\u001b[0m\n",
      "\u001b[1;31mPermissionError\u001b[0m: [WinError 32] The process cannot access the file because it is being used by another process: './tmp_dataframe.csv'"
     ]
    }
   ],
   "source": [
    "copy_from_file(conn, shots_df, 'shot_data')"
   ]
  },
  {
   "cell_type": "code",
   "execution_count": 14,
   "metadata": {},
   "outputs": [
    {
     "name": "stdout",
     "output_type": "stream",
     "text": [
      "Error: name 'extras' is not defined\n"
     ]
    },
    {
     "data": {
      "text/plain": [
       "1"
      ]
     },
     "execution_count": 14,
     "metadata": {},
     "output_type": "execute_result"
    }
   ],
   "source": [
    "def execute_batch(conn, df, table, page_size=100):\n",
    "    \"\"\"\n",
    "    Using psycopg2.extras.execute_batch() to insert the dataframe\n",
    "    \"\"\"\n",
    "    # Create a list of tupples from the dataframe values\n",
    "    tuples = [tuple(x) for x in df.to_numpy()]\n",
    "    # Comma-separated dataframe columns\n",
    "    cols = ','.join(list(df.columns))\n",
    "    # SQL quert to execute\n",
    "    query  = \"INSERT INTO %s(%s) VALUES(%%s,%%s,%%s)\" % (table, cols)\n",
    "    cursor = conn.cursor()\n",
    "    try:\n",
    "        extras.execute_batch(cursor, query, tuples, page_size)\n",
    "        conn.commit()\n",
    "    except (Exception, psycopg2.DatabaseError) as error:\n",
    "        print(\"Error: %s\" % error)\n",
    "        conn.rollback()\n",
    "        cursor.close()\n",
    "        return 1\n",
    "    print(\"execute_batch() done\")\n",
    "    cursor.close()\n",
    "\n",
    "execute_batch(conn, shots_df, 'shot_data')"
   ]
  },
  {
   "cell_type": "code",
   "execution_count": 17,
   "metadata": {},
   "outputs": [
    {
     "data": {
      "text/plain": [
       "Index(['shotID', 'homeTeamCode', 'awayTeamCode', 'season', 'isPlayoffGame',\n",
       "       'game_id', 'homeTeamWon', 'id', 'time', 'timeUntilNextEvent',\n",
       "       ...\n",
       "       'xFroze', 'xRebound', 'xPlayContinuedInZone',\n",
       "       'xPlayContinuedOutsideZone', 'xPlayStopped', 'xShotWasOnGoal',\n",
       "       'isHomeTeam', 'shotWasOnGoal', 'teamCode', 'arenaAdjustedXCordABS'],\n",
       "      dtype='object', length=124)"
      ]
     },
     "execution_count": 17,
     "metadata": {},
     "output_type": "execute_result"
    }
   ],
   "source": [
    "shots_df.columns"
   ]
  },
  {
   "cell_type": "code",
   "execution_count": 18,
   "metadata": {},
   "outputs": [
    {
     "name": "stdout",
     "output_type": "stream",
     "text": [
      "Error: not all arguments converted during string formatting\n"
     ]
    },
    {
     "data": {
      "text/plain": [
       "1"
      ]
     },
     "execution_count": 18,
     "metadata": {},
     "output_type": "execute_result"
    }
   ],
   "source": [
    "def execute_many(conn, df, table):\n",
    "    \"\"\"\n",
    "    Using cursor.executemany() to insert the dataframe\n",
    "    \"\"\"\n",
    "    # Create a list of tupples from the dataframe values\n",
    "    tuples = [tuple(x) for x in df.to_numpy()]\n",
    "    # Comma-separated dataframe columns\n",
    "    cols = ','.join(list(df.columns))\n",
    "    # SQL quert to execute\n",
    "    query  = \"INSERT INTO %s(%s) VALUES(%%s,%%s,%%s)\" % (table, cols)\n",
    "    cursor = conn.cursor()\n",
    "    try:\n",
    "        cursor.executemany(query, tuples)\n",
    "        conn.commit()\n",
    "    except (Exception, psycopg2.DatabaseError) as error:\n",
    "        print(\"Error: %s\" % error)\n",
    "        conn.rollback()\n",
    "        cursor.close()\n",
    "        return 1\n",
    "    print(\"execute_many() done\")\n",
    "    cursor.close()\n",
    "\n",
    "execute_many(conn, shots_df, 'shot_data')"
   ]
  },
  {
   "cell_type": "code",
   "execution_count": 21,
   "metadata": {},
   "outputs": [
    {
     "name": "stdout",
     "output_type": "stream",
     "text": [
      "Error: name 'extras' is not defined\n"
     ]
    },
    {
     "data": {
      "text/plain": [
       "1"
      ]
     },
     "execution_count": 21,
     "metadata": {},
     "output_type": "execute_result"
    }
   ],
   "source": [
    "import psycopg2\n",
    "def execute_values(conn, df, table):\n",
    "    \"\"\"\n",
    "    Using psycopg2.extras.execute_values() to insert the dataframe\n",
    "    \"\"\"\n",
    "    # Create a list of tupples from the dataframe values\n",
    "    tuples = [tuple(x) for x in df.to_numpy()]\n",
    "    # Comma-separated dataframe columns\n",
    "    cols = ','.join(list(df.columns))\n",
    "    # SQL quert to execute\n",
    "    query  = \"INSERT INTO %s(%s) VALUES %%s\" % (table, cols)\n",
    "    cursor = conn.cursor()\n",
    "    try:\n",
    "        extras.execute_values(cursor, query, tuples)\n",
    "        conn.commit()\n",
    "    except (Exception, psycopg2.DatabaseError) as error:\n",
    "        print(\"Error: %s\" % error)\n",
    "        conn.rollback()\n",
    "        cursor.close()\n",
    "        return 1\n",
    "    print(\"execute_values() done\")\n",
    "    cursor.close()\n",
    "\n",
    "execute_values(conn, shots_df, 'shots_data')"
   ]
  },
  {
   "cell_type": "code",
   "execution_count": 20,
   "metadata": {},
   "outputs": [
    {
     "data": {
      "text/plain": [
       "['shotID',\n",
       " 'homeTeamCode',\n",
       " 'awayTeamCode',\n",
       " 'season',\n",
       " 'isPlayoffGame',\n",
       " 'game_id',\n",
       " 'homeTeamWon',\n",
       " 'id',\n",
       " 'time',\n",
       " 'timeUntilNextEvent',\n",
       " 'timeSinceLastEvent',\n",
       " 'period',\n",
       " 'team',\n",
       " 'location',\n",
       " 'event',\n",
       " 'goal',\n",
       " 'shotPlayContinuedOutsideZone',\n",
       " 'shotPlayContinuedInZone',\n",
       " 'shotGoalieFroze',\n",
       " 'shotPlayStopped',\n",
       " 'shotGeneratedRebound',\n",
       " 'homeTeamGoals',\n",
       " 'awayTeamGoals',\n",
       " 'xCord',\n",
       " 'yCord',\n",
       " 'xCordAdjusted',\n",
       " 'yCordAdjusted',\n",
       " 'shotAngle',\n",
       " 'shotAngleAdjusted',\n",
       " 'shotAnglePlusRebound',\n",
       " 'shotAngleReboundRoyalRoad',\n",
       " 'shotDistance',\n",
       " 'shotType',\n",
       " 'shotOnEmptyNet',\n",
       " 'shotRebound',\n",
       " 'shotAnglePlusReboundSpeed',\n",
       " 'shotRush',\n",
       " 'speedFromLastEvent',\n",
       " 'lastEventxCord',\n",
       " 'lastEventyCord',\n",
       " 'distanceFromLastEvent',\n",
       " 'lastEventShotAngle',\n",
       " 'lastEventShotDistance',\n",
       " 'lastEventCategory',\n",
       " 'lastEventTeam',\n",
       " 'homeEmptyNet',\n",
       " 'awayEmptyNet',\n",
       " 'homeSkatersOnIce',\n",
       " 'awaySkatersOnIce',\n",
       " 'awayPenalty1TimeLeft',\n",
       " 'awayPenalty1Length',\n",
       " 'homePenalty1TimeLeft',\n",
       " 'homePenalty1Length',\n",
       " 'playerPositionThatDidEvent',\n",
       " 'playerNumThatDidEvent',\n",
       " 'playerNumThatDidLastEvent',\n",
       " 'lastEventxCord_adjusted',\n",
       " 'lastEventyCord_adjusted',\n",
       " 'timeSinceFaceoff',\n",
       " 'goalieIdForShot',\n",
       " 'goalieNameForShot',\n",
       " 'shooterPlayerId',\n",
       " 'shooterName',\n",
       " 'shooterLeftRight',\n",
       " 'shooterTimeOnIce',\n",
       " 'shooterTimeOnIceSinceFaceoff',\n",
       " 'shootingTeamForwardsOnIce',\n",
       " 'shootingTeamDefencemenOnIce',\n",
       " 'shootingTeamAverageTimeOnIce',\n",
       " 'shootingTeamAverageTimeOnIceOfForwards',\n",
       " 'shootingTeamAverageTimeOnIceOfDefencemen',\n",
       " 'shootingTeamMaxTimeOnIce',\n",
       " 'shootingTeamMaxTimeOnIceOfForwards',\n",
       " 'shootingTeamMaxTimeOnIceOfDefencemen',\n",
       " 'shootingTeamMinTimeOnIce',\n",
       " 'shootingTeamMinTimeOnIceOfForwards',\n",
       " 'shootingTeamMinTimeOnIceOfDefencemen',\n",
       " 'shootingTeamAverageTimeOnIceSinceFaceoff',\n",
       " 'shootingTeamAverageTimeOnIceOfForwardsSinceFaceoff',\n",
       " 'shootingTeamAverageTimeOnIceOfDefencemenSinceFaceoff',\n",
       " 'shootingTeamMaxTimeOnIceSinceFaceoff',\n",
       " 'shootingTeamMaxTimeOnIceOfForwardsSinceFaceoff',\n",
       " 'shootingTeamMaxTimeOnIceOfDefencemenSinceFaceoff',\n",
       " 'shootingTeamMinTimeOnIceSinceFaceoff',\n",
       " 'shootingTeamMinTimeOnIceOfForwardsSinceFaceoff',\n",
       " 'shootingTeamMinTimeOnIceOfDefencemenSinceFaceoff',\n",
       " 'defendingTeamForwardsOnIce',\n",
       " 'defendingTeamDefencemenOnIce',\n",
       " 'defendingTeamAverageTimeOnIce',\n",
       " 'defendingTeamAverageTimeOnIceOfForwards',\n",
       " 'defendingTeamAverageTimeOnIceOfDefencemen',\n",
       " 'defendingTeamMaxTimeOnIce',\n",
       " 'defendingTeamMaxTimeOnIceOfForwards',\n",
       " 'defendingTeamMaxTimeOnIceOfDefencemen',\n",
       " 'defendingTeamMinTimeOnIce',\n",
       " 'defendingTeamMinTimeOnIceOfForwards',\n",
       " 'defendingTeamMinTimeOnIceOfDefencemen',\n",
       " 'defendingTeamAverageTimeOnIceSinceFaceoff',\n",
       " 'defendingTeamAverageTimeOnIceOfForwardsSinceFaceoff',\n",
       " 'defendingTeamAverageTimeOnIceOfDefencemenSinceFaceoff',\n",
       " 'defendingTeamMaxTimeOnIceSinceFaceoff',\n",
       " 'defendingTeamMaxTimeOnIceOfForwardsSinceFaceoff',\n",
       " 'defendingTeamMaxTimeOnIceOfDefencemenSinceFaceoff',\n",
       " 'defendingTeamMinTimeOnIceSinceFaceoff',\n",
       " 'defendingTeamMinTimeOnIceOfForwardsSinceFaceoff',\n",
       " 'defendingTeamMinTimeOnIceOfDefencemenSinceFaceoff',\n",
       " 'offWing',\n",
       " 'arenaAdjustedShotDistance',\n",
       " 'arenaAdjustedXCord',\n",
       " 'arenaAdjustedYCord',\n",
       " 'arenaAdjustedYCordAbs',\n",
       " 'timeDifferenceSinceChange',\n",
       " 'averageRestDifference',\n",
       " 'xGoal',\n",
       " 'xFroze',\n",
       " 'xRebound',\n",
       " 'xPlayContinuedInZone',\n",
       " 'xPlayContinuedOutsideZone',\n",
       " 'xPlayStopped',\n",
       " 'xShotWasOnGoal',\n",
       " 'isHomeTeam',\n",
       " 'shotWasOnGoal',\n",
       " 'teamCode',\n",
       " 'arenaAdjustedXCordABS']"
      ]
     },
     "execution_count": 20,
     "metadata": {},
     "output_type": "execute_result"
    }
   ],
   "source": [
    "list(shots_df.columns)"
   ]
  },
  {
   "cell_type": "code",
   "execution_count": null,
   "metadata": {},
   "outputs": [],
   "source": []
  }
 ],
 "metadata": {
  "interpreter": {
   "hash": "be2e7877c44afa397199e9cfbcd571547135c18cd55cff007376fb6d8ac3a739"
  },
  "kernelspec": {
   "display_name": "Python 3.8.8 64-bit ('base': conda)",
   "name": "python3"
  },
  "language_info": {
   "codemirror_mode": {
    "name": "ipython",
    "version": 3
   },
   "file_extension": ".py",
   "mimetype": "text/x-python",
   "name": "python",
   "nbconvert_exporter": "python",
   "pygments_lexer": "ipython3",
   "version": "3.8.8"
  },
  "orig_nbformat": 4
 },
 "nbformat": 4,
 "nbformat_minor": 2
}
